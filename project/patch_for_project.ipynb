{
 "cells": [
  {
   "cell_type": "code",
   "execution_count": 1,
   "metadata": {},
   "outputs": [],
   "source": [
    "import pandas as pd\n",
    "import cvxopt\n",
    "from functools import partial\n",
    "import math\n",
    "import numpy as np\n",
    "import scipy\n",
    "from scipy import stats"
   ]
  },
  {
   "cell_type": "code",
   "execution_count": 2,
   "metadata": {},
   "outputs": [],
   "source": [
    "# Here's our function to compute the sigmas given the initial guess\n",
    "def compute_squared_sigmas(X, initial_sigma, theta):\n",
    "    \n",
    "    a0 = theta[0]\n",
    "    a1 = theta[1]\n",
    "    b1 = theta[2]\n",
    "    \n",
    "    T = len(X)\n",
    "    sigma2 = np.ndarray(T)\n",
    "    \n",
    "    sigma2[0] = initial_sigma ** 2\n",
    "    \n",
    "    for t in range(1, T):\n",
    "        # Here's where we apply the equation\n",
    "        sigma2[t] = a0 + a1 * X[t-1]**2 + b1 * sigma2[t-1]\n",
    "    \n",
    "    return sigma2"
   ]
  },
  {
   "cell_type": "code",
   "execution_count": 3,
   "metadata": {},
   "outputs": [],
   "source": [
    "def negative_log_likelihood(X, theta):\n",
    "    \n",
    "    T = len(X)\n",
    "    \n",
    "    # Estimate initial sigma squared\n",
    "    initial_sigma = np.sqrt(np.mean(X ** 2))\n",
    "    \n",
    "    # Generate the squared sigma values\n",
    "    sigma2 = compute_squared_sigmas(X, initial_sigma, theta)\n",
    "    \n",
    "    # Now actually compute\n",
    "    return -sum(\n",
    "        [-np.log(np.sqrt(2.0 * np.pi)) -\n",
    "        (X[t] ** 2) / (2.0 * sigma2[t]) -\n",
    "        0.5 * np.log(sigma2[t]) for\n",
    "         t in range(T)]\n",
    "    )"
   ]
  },
  {
   "cell_type": "code",
   "execution_count": 10,
   "metadata": {},
   "outputs": [
    {
     "data": {
      "text/plain": [
       "array([-1.49538909,  3.50405989,  1.60825848, ..., -1.60547916,\n",
       "       -0.76966935, -3.32740696])"
      ]
     },
     "execution_count": 10,
     "metadata": {},
     "output_type": "execute_result"
    }
   ],
   "source": [
    "simulation_from_r = pd.read_csv('simulation_result.csv')\n",
    "simulation_from_r = np.array(simulation_from_r['r'])\n",
    "simulation_from_r"
   ]
  },
  {
   "cell_type": "code",
   "execution_count": 11,
   "metadata": {},
   "outputs": [
    {
     "name": "stderr",
     "output_type": "stream",
     "text": [
      "/Users/likaiyi/opt/anaconda3/lib/python3.7/site-packages/ipykernel_launcher.py:16: RuntimeWarning: invalid value encountered in log\n",
      "  app.launch_new_instance()\n"
     ]
    },
    {
     "name": "stdout",
     "output_type": "stream",
     "text": [
      "theta MLE: [1.00006464 0.29826454 0.50190327]\n"
     ]
    }
   ],
   "source": [
    "X = simulation_from_r\n",
    "objective = partial(negative_log_likelihood, X)\n",
    "\n",
    "# Define the constraints for our minimizer\n",
    "def constraint1(theta):\n",
    "    return np.array([1 - (theta[1] + theta[2])])\n",
    "\n",
    "def constraint2(theta):\n",
    "    return np.array([theta[1]])\n",
    "\n",
    "def constraint3(theta):\n",
    "    return np.array([theta[2]])\n",
    "\n",
    "cons = ({'type': 'ineq', 'fun': constraint1},\n",
    "        {'type': 'ineq', 'fun': constraint2},\n",
    "        {'type': 'ineq', 'fun': constraint3})\n",
    "\n",
    "# Actually do the minimization\n",
    "result = scipy.optimize.minimize(objective, (1, 0.5, 0.5),\n",
    "                        method='SLSQP',\n",
    "                        constraints = cons)\n",
    "theta_mle = result.x\n",
    "print ('theta MLE: ' + str(theta_mle))"
   ]
  },
  {
   "cell_type": "code",
   "execution_count": 17,
   "metadata": {},
   "outputs": [
    {
     "data": {
      "text/plain": [
       "16970.840660832946"
      ]
     },
     "execution_count": 17,
     "metadata": {},
     "output_type": "execute_result"
    }
   ],
   "source": [
    "# negative_log_likelihood(X,[1.00006464,0.29826454,0.50190327])\n",
    "negative_log_likelihood(X,[1.00006464,0.29826454,0.50190327])"
   ]
  },
  {
   "cell_type": "code",
   "execution_count": null,
   "metadata": {},
   "outputs": [],
   "source": []
  }
 ],
 "metadata": {
  "kernelspec": {
   "display_name": "Python 3",
   "language": "python",
   "name": "python3"
  },
  "language_info": {
   "codemirror_mode": {
    "name": "ipython",
    "version": 3
   },
   "file_extension": ".py",
   "mimetype": "text/x-python",
   "name": "python",
   "nbconvert_exporter": "python",
   "pygments_lexer": "ipython3",
   "version": "3.7.4"
  },
  "latex_envs": {
   "LaTeX_envs_menu_present": true,
   "autoclose": true,
   "autocomplete": true,
   "bibliofile": "biblio.bib",
   "cite_by": "apalike",
   "current_citInitial": 1,
   "eqLabelWithNumbers": true,
   "eqNumInitial": 1,
   "hotkeys": {
    "equation": "Ctrl-E",
    "itemize": "Ctrl-I"
   },
   "labels_anchors": false,
   "latex_user_defs": false,
   "report_style_numbering": false,
   "user_envs_cfg": true
  },
  "toc": {
   "base_numbering": 1,
   "nav_menu": {},
   "number_sections": true,
   "sideBar": true,
   "skip_h1_title": false,
   "title_cell": "Table of Contents",
   "title_sidebar": "Contents",
   "toc_cell": false,
   "toc_position": {},
   "toc_section_display": true,
   "toc_window_display": false
  },
  "varInspector": {
   "cols": {
    "lenName": 16,
    "lenType": 16,
    "lenVar": 40
   },
   "kernels_config": {
    "python": {
     "delete_cmd_postfix": "",
     "delete_cmd_prefix": "del ",
     "library": "var_list.py",
     "varRefreshCmd": "print(var_dic_list())"
    },
    "r": {
     "delete_cmd_postfix": ") ",
     "delete_cmd_prefix": "rm(",
     "library": "var_list.r",
     "varRefreshCmd": "cat(var_dic_list()) "
    }
   },
   "types_to_exclude": [
    "module",
    "function",
    "builtin_function_or_method",
    "instance",
    "_Feature"
   ],
   "window_display": false
  }
 },
 "nbformat": 4,
 "nbformat_minor": 2
}
